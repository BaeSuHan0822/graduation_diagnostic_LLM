{
 "cells": [
  {
   "cell_type": "code",
   "execution_count": null,
   "id": "e183ac9a-e6ba-43d3-9c31-efd97e0f3d2e",
   "metadata": {},
   "outputs": [],
   "source": []
  }
 ],
 "metadata": {
  "kernelspec": {
   "display_name": "",
   "name": ""
  },
  "language_info": {
   "name": ""
  }
 },
 "nbformat": 4,
 "nbformat_minor": 5
}
